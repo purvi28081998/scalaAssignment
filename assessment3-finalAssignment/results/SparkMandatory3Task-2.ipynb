{
 "cells": [
  {
   "cell_type": "code",
   "execution_count": 1,
   "id": "2f99cc79-ea86-4875-a62d-e75cf3eb1fba",
   "metadata": {
    "execution": {
     "iopub.execute_input": "2024-06-26T06:52:52.080977Z",
     "iopub.status.busy": "2024-06-26T06:52:52.080723Z",
     "iopub.status.idle": "2024-06-26T06:53:22.929452Z",
     "shell.execute_reply": "2024-06-26T06:53:22.928803Z",
     "shell.execute_reply.started": "2024-06-26T06:52:52.080947Z"
    },
    "tags": []
   },
   "outputs": [
    {
     "data": {
      "application/vnd.jupyter.widget-view+json": {
       "model_id": "445b2237330e43559b5b9acd69778ebc",
       "version_major": 2,
       "version_minor": 0
      },
      "text/plain": [
       "VBox()"
      ]
     },
     "metadata": {},
     "output_type": "display_data"
    },
    {
     "name": "stdout",
     "output_type": "stream",
     "text": [
      "Starting Spark application\n"
     ]
    },
    {
     "data": {
      "text/html": [
       "<table>\n<tbody><tr><th>ID</th><th>YARN Application ID</th><th>Kind</th><th>State</th><th>Spark UI</th><th>Driver log</th><th>User</th><th>Current session?</th></tr><tr><td>4</td><td>application_1719381822110_0005</td><td>spark</td><td>idle</td><td><a target=\"_blank\" href=\"http://ip-172-31-1-59.ap-south-1.compute.internal:20888/proxy/application_1719381822110_0005/\" class=\"emr-proxy-link j-3VAKS3CXI5HDD application_1719381822110_0005\" emr-resource=\"j-3VAKS3CXI5HDD\n\" application-id=\"application_1719381822110_0005\">Link</a></td><td><a target=\"_blank\" href=\"http://ip-172-31-5-189.ap-south-1.compute.internal:8042/node/containerlogs/container_1719381822110_0005_01_000001/livy\">Link</a></td><td>None</td><td>✔</td></tr></tbody></table>"
      ],
      "text/plain": [
       "<IPython.core.display.HTML object>"
      ]
     },
     "metadata": {},
     "output_type": "display_data"
    },
    {
     "data": {
      "application/vnd.jupyter.widget-view+json": {
       "model_id": "",
       "version_major": 2,
       "version_minor": 0
      },
      "text/plain": [
       "FloatProgress(value=0.0, bar_style='info', description='Progress:', layout=Layout(height='25px', width='50%'),…"
      ]
     },
     "metadata": {},
     "output_type": "display_data"
    },
    {
     "name": "stdout",
     "output_type": "stream",
     "text": [
      "SparkSession available as 'spark'.\n"
     ]
    },
    {
     "data": {
      "application/vnd.jupyter.widget-view+json": {
       "model_id": "",
       "version_major": 2,
       "version_minor": 0
      },
      "text/plain": [
       "FloatProgress(value=0.0, bar_style='info', description='Progress:', layout=Layout(height='25px', width='50%'),…"
      ]
     },
     "metadata": {},
     "output_type": "display_data"
    },
    {
     "name": "stdout",
     "output_type": "stream",
     "text": [
      "res1: org.apache.spark.sql.SparkSession = org.apache.spark.sql.SparkSession@79ecefec\n"
     ]
    }
   ],
   "source": [
    "spark"
   ]
  },
  {
   "cell_type": "code",
   "execution_count": 2,
   "id": "996004a7-e708-4f60-9a01-454bfebe42bc",
   "metadata": {
    "execution": {
     "iopub.execute_input": "2024-06-26T06:54:08.799540Z",
     "iopub.status.busy": "2024-06-26T06:54:08.799308Z",
     "iopub.status.idle": "2024-06-26T06:57:20.764311Z",
     "shell.execute_reply": "2024-06-26T06:57:20.763582Z",
     "shell.execute_reply.started": "2024-06-26T06:54:08.799502Z"
    },
    "tags": []
   },
   "outputs": [
    {
     "data": {
      "application/vnd.jupyter.widget-view+json": {
       "model_id": "5a269ad8635b463ab8666a0295978300",
       "version_major": 2,
       "version_minor": 0
      },
      "text/plain": [
       "VBox()"
      ]
     },
     "metadata": {},
     "output_type": "display_data"
    },
    {
     "data": {
      "application/vnd.jupyter.widget-view+json": {
       "model_id": "",
       "version_major": 2,
       "version_minor": 0
      },
      "text/plain": [
       "FloatProgress(value=0.0, bar_style='info', description='Progress:', layout=Layout(height='25px', width='50%'),…"
      ]
     },
     "metadata": {},
     "output_type": "display_data"
    },
    {
     "name": "stdout",
     "output_type": "stream",
     "text": [
      "df_csv_data: org.apache.spark.sql.DataFrame = [From Date: string, To Date: string ... 23 more fields]\n"
     ]
    }
   ],
   "source": [
    "val df_csv_data = spark.read.option(\"header\", \"true\").option(\"inferSchema\", \"true\").csv(\"s3://akka-bucket-scala/assessment3/*.csv\")"
   ]
  },
  {
   "cell_type": "code",
   "execution_count": 3,
   "id": "0a92aa42-1614-4e3d-a483-4e71d361448b",
   "metadata": {
    "execution": {
     "iopub.execute_input": "2024-06-26T06:57:20.768314Z",
     "iopub.status.busy": "2024-06-26T06:57:20.767932Z",
     "iopub.status.idle": "2024-06-26T07:00:54.711224Z",
     "shell.execute_reply": "2024-06-26T07:00:54.710514Z",
     "shell.execute_reply.started": "2024-06-26T06:57:20.768274Z"
    },
    "tags": []
   },
   "outputs": [
    {
     "data": {
      "application/vnd.jupyter.widget-view+json": {
       "model_id": "fde4417d2d2d4e40847bde4be11e4b43",
       "version_major": 2,
       "version_minor": 0
      },
      "text/plain": [
       "VBox()"
      ]
     },
     "metadata": {},
     "output_type": "display_data"
    },
    {
     "data": {
      "application/vnd.jupyter.widget-view+json": {
       "model_id": "",
       "version_major": 2,
       "version_minor": 0
      },
      "text/plain": [
       "FloatProgress(value=0.0, bar_style='info', description='Progress:', layout=Layout(height='25px', width='50%'),…"
      ]
     },
     "metadata": {},
     "output_type": "display_data"
    }
   ],
   "source": [
    "df_csv_data.write.mode(\"overwrite\").parquet(\"s3://akka-bucket-scala/assessment3/parquet_output\")"
   ]
  },
  {
   "cell_type": "code",
   "execution_count": 4,
   "id": "60f170dd-e940-406b-a71c-eff1c1db922f",
   "metadata": {
    "execution": {
     "iopub.execute_input": "2024-06-26T07:00:54.715987Z",
     "iopub.status.busy": "2024-06-26T07:00:54.715823Z",
     "iopub.status.idle": "2024-06-26T07:00:59.995261Z",
     "shell.execute_reply": "2024-06-26T07:00:59.994612Z",
     "shell.execute_reply.started": "2024-06-26T07:00:54.715964Z"
    },
    "tags": []
   },
   "outputs": [
    {
     "data": {
      "application/vnd.jupyter.widget-view+json": {
       "model_id": "f30788b5093a4585ab77dbb163970584",
       "version_major": 2,
       "version_minor": 0
      },
      "text/plain": [
       "VBox()"
      ]
     },
     "metadata": {},
     "output_type": "display_data"
    },
    {
     "data": {
      "application/vnd.jupyter.widget-view+json": {
       "model_id": "",
       "version_major": 2,
       "version_minor": 0
      },
      "text/plain": [
       "FloatProgress(value=0.0, bar_style='info', description='Progress:', layout=Layout(height='25px', width='50%'),…"
      ]
     },
     "metadata": {},
     "output_type": "display_data"
    },
    {
     "name": "stdout",
     "output_type": "stream",
     "text": [
      "df_parquet: org.apache.spark.sql.DataFrame = [From Date: string, To Date: string ... 23 more fields]\n"
     ]
    }
   ],
   "source": [
    "val df_parquet = spark.read.option(\"header\",true).option(\"inferSchema\", true).parquet(\"s3://akka-bucket-scala/assessment3/parquet_output/\")"
   ]
  },
  {
   "cell_type": "code",
   "execution_count": 5,
   "id": "e487ceda-d7ae-4a62-b9a3-848262170635",
   "metadata": {
    "execution": {
     "iopub.execute_input": "2024-06-26T07:00:59.996460Z",
     "iopub.status.busy": "2024-06-26T07:00:59.996292Z",
     "iopub.status.idle": "2024-06-26T07:01:02.285167Z",
     "shell.execute_reply": "2024-06-26T07:01:02.284333Z",
     "shell.execute_reply.started": "2024-06-26T07:00:59.996437Z"
    },
    "tags": []
   },
   "outputs": [
    {
     "data": {
      "application/vnd.jupyter.widget-view+json": {
       "model_id": "a20842c8648f4116bef800e86f05f414",
       "version_major": 2,
       "version_minor": 0
      },
      "text/plain": [
       "VBox()"
      ]
     },
     "metadata": {},
     "output_type": "display_data"
    },
    {
     "data": {
      "application/vnd.jupyter.widget-view+json": {
       "model_id": "",
       "version_major": 2,
       "version_minor": 0
      },
      "text/plain": [
       "FloatProgress(value=0.0, bar_style='info', description='Progress:', layout=Layout(height='25px', width='50%'),…"
      ]
     },
     "metadata": {},
     "output_type": "display_data"
    },
    {
     "name": "stdout",
     "output_type": "stream",
     "text": [
      "+-------------------+-------------------+-------------+------------+----------+-----------+---------+-----------+-----------+----------+-------------+---------------+---------------+-------------------+-----------------+----------------+---------------+------+--------+--------+----------+---------+---------+--------------+-------------+\n",
      "|          From Date|            To Date|PM2.5 (ug/m3)|PM10 (ug/m3)|NO (ug/m3)|NO2 (ug/m3)|NOx (ppb)|NH3 (ug/m3)|SO2 (ug/m3)|CO (mg/m3)|Ozone (ug/m3)|Benzene (ug/m3)|Toluene (ug/m3)|Eth-Benzene (ug/m3)|MP-Xylene (ug/m3)|O Xylene (ug/m3)|Temp (degree C)|RH (%)|WS (m/s)|WD (deg)|SR (W/mt2)|BP (mmHg)|VWS (m/s)|Xylene (ug/m3)|AT (degree C)|\n",
      "+-------------------+-------------------+-------------+------------+----------+-----------+---------+-----------+-----------+----------+-------------+---------------+---------------+-------------------+-----------------+----------------+---------------+------+--------+--------+----------+---------+---------+--------------+-------------+\n",
      "|2023-02-08 17:00:00|2023-02-08 18:00:00|        10.33|       56.33|      3.03|       8.47|      7.0|       NULL|       2.63|      0.33|        97.17|            0.2|           1.63|               0.17|             0.03|            NULL|          20.67|   0.2|  128.67|    60.0|      19.3|     NULL|     NULL|          NULL|         NULL|\n",
      "|2023-02-08 18:00:00|2023-02-08 19:00:00|         12.0|       81.75|      3.45|      32.75|    20.23|       NULL|       2.35|      0.76|        23.38|            0.3|           2.58|                0.4|             0.05|            NULL|          31.25|  0.28|  128.25|    52.0|     17.58|     NULL|     NULL|          NULL|         NULL|\n",
      "|2023-02-08 19:00:00|2023-02-08 20:00:00|         68.0|      158.75|      9.07|       47.8|    32.83|       NULL|       2.45|      1.24|          3.9|           1.55|           8.07|                2.9|             0.25|            0.08|           30.5|  0.35|   128.5|    51.5|     16.98|     NULL|     NULL|          NULL|         NULL|\n",
      "|2023-02-08 20:00:00|2023-02-08 21:00:00|        62.75|      223.25|     13.57|      51.65|    38.52|       NULL|       2.33|      1.14|         2.55|           1.25|           6.27|               2.17|             0.22|            0.08|          31.25|  0.27|   128.5|   50.75|      16.6|     NULL|     NULL|          NULL|         NULL|\n",
      "|2023-02-08 21:00:00|2023-02-08 22:00:00|        47.25|       160.0|     14.93|      49.33|    38.33|       NULL|       1.62|       0.9|         4.33|            1.1|           6.35|                2.1|              0.2|            0.08|           36.5|  0.38|   128.5|    49.5|     15.85|     NULL|     NULL|          NULL|         NULL|\n",
      "|2023-02-08 22:00:00|2023-02-08 23:00:00|        37.25|       131.0|     11.45|      43.33|    32.32|       NULL|       1.48|      0.52|        19.75|           0.68|           3.77|               1.15|              0.1|            NULL|           34.5|   0.4|   128.5|   47.75|     15.77|     NULL|     NULL|          NULL|         NULL|\n",
      "|2023-02-08 23:00:00|2023-02-09 00:00:00|        26.25|      102.25|      8.72|      46.38|    31.75|       NULL|       1.25|      0.64|          8.6|            0.5|           3.47|               0.93|              0.1|            0.05|           40.5|  0.15|   128.5|   46.75|     15.25|     NULL|     NULL|          NULL|         NULL|\n",
      "|2023-02-09 00:00:00|2023-02-09 01:00:00|        19.75|      126.75|     11.35|      45.03|    33.17|       NULL|       1.75|      0.63|          8.5|            0.6|           4.22|               1.57|              0.1|            0.05|          44.25|  0.25|   128.5|   45.25|     14.97|     NULL|     NULL|          NULL|         NULL|\n",
      "|2023-02-09 01:00:00|2023-02-09 02:00:00|         14.0|      131.75|      6.97|      38.72|    26.32|       NULL|        1.6|      0.42|         32.3|           0.43|           2.95|               0.75|             0.08|            0.03|           41.5|  0.23|   128.5|    44.5|     15.03|     NULL|     NULL|          NULL|         NULL|\n",
      "|2023-02-09 02:00:00|2023-02-09 03:00:00|         19.0|        83.5|      4.45|      33.72|    21.55|       NULL|       1.05|      0.36|        37.75|           0.38|           2.25|               0.55|             0.03|            0.03|          43.75|  0.25|   128.5|   43.75|     14.85|     NULL|     NULL|          NULL|         NULL|\n",
      "|2023-02-09 03:00:00|2023-02-09 04:00:00|         18.0|        73.0|       3.4|      29.85|    18.65|       NULL|        0.6|       0.4|        23.62|           0.32|           2.15|               0.45|             0.05|            0.08|           51.0|  0.32|  128.25|    43.0|      14.2|     NULL|     NULL|          NULL|         NULL|\n",
      "|2023-02-09 04:00:00|2023-02-09 05:00:00|          9.5|        77.0|       3.4|      28.65|     18.0|       NULL|       1.05|      0.39|        38.15|           0.33|            2.0|               0.43|             NULL|            0.08|           48.5|  0.35|   128.5|   43.25|      14.5|     NULL|     NULL|          NULL|         NULL|\n",
      "|2023-02-09 05:00:00|2023-02-09 06:00:00|        18.75|       79.25|      3.38|       29.8|     18.6|       NULL|       0.85|      0.49|        23.62|            0.5|           2.05|               0.43|             NULL|            NULL|           53.5|  0.47|   128.5|   44.25|     13.78|     NULL|     NULL|          NULL|         NULL|\n",
      "|2023-02-09 06:00:00|2023-02-09 07:00:00|        23.25|        83.5|      3.38|      29.83|    18.62|       NULL|       0.92|      0.53|         43.8|           0.58|           2.05|                0.4|             NULL|            0.05|           36.0|  0.55|   128.5|    45.5|     15.15|     NULL|     NULL|          NULL|         NULL|\n",
      "|2023-02-09 07:00:00|2023-02-09 08:00:00|         24.0|       106.0|       4.1|      29.47|    19.02|       NULL|       0.95|      0.73|        30.82|           1.07|           2.42|               0.55|             0.03|            0.05|           42.5|  0.57|   128.5|    52.0|     14.72|     NULL|     NULL|          NULL|         NULL|\n",
      "|2023-02-09 08:00:00|2023-02-09 09:00:00|         44.0|       142.0|      4.22|      24.18|    16.27|       NULL|       0.73|       0.6|        50.02|            1.0|           2.55|                0.6|             0.05|            0.12|           45.5|   0.6|   128.5|    93.5|      15.4|     NULL|     NULL|          NULL|         NULL|\n",
      "|2023-02-09 09:00:00|2023-02-09 10:00:00|         44.0|      162.75|       4.5|      21.32|    14.98|       NULL|       1.62|      0.67|        69.28|           0.88|           3.05|               0.65|             0.05|             0.1|           33.5|  0.57|   128.5|   157.5|     17.73|     NULL|     NULL|          NULL|         NULL|\n",
      "|2023-02-09 10:00:00|2023-02-09 11:00:00|         NULL|      168.25|      3.25|      11.65|      8.8|       NULL|       2.35|      0.33|        97.05|           0.62|           2.88|               0.53|             0.03|            0.12|           24.5|  1.23|   128.5|   213.0|     18.75|     NULL|     NULL|          NULL|         NULL|\n",
      "|2023-02-09 11:00:00|2023-02-09 12:00:00|         16.0|       66.25|      3.05|       7.47|     6.45|       NULL|       1.75|      0.31|       101.93|           0.45|           2.52|               0.28|             NULL|            0.05|          23.25|   1.3|   128.5|   253.5|      19.2|     NULL|     NULL|          NULL|         NULL|\n",
      "|2023-02-09 12:00:00|2023-02-09 13:00:00|        14.75|        65.0|       3.1|       7.92|     6.72|       NULL|       2.25|       0.3|         94.0|           0.38|           2.27|               0.25|             0.03|            NULL|          22.25|  1.48|   128.5|   264.5|      19.7|     NULL|     NULL|          NULL|         NULL|\n",
      "+-------------------+-------------------+-------------+------------+----------+-----------+---------+-----------+-----------+----------+-------------+---------------+---------------+-------------------+-----------------+----------------+---------------+------+--------+--------+----------+---------+---------+--------------+-------------+\n",
      "only showing top 20 rows\n",
      "\n"
     ]
    }
   ],
   "source": [
    "df_parquet.show()"
   ]
  },
  {
   "cell_type": "code",
   "execution_count": 6,
   "id": "10428212-f29e-43b1-93f3-bb64baf16484",
   "metadata": {
    "execution": {
     "iopub.execute_input": "2024-06-26T07:01:02.286688Z",
     "iopub.status.busy": "2024-06-26T07:01:02.286433Z",
     "iopub.status.idle": "2024-06-26T07:01:09.658716Z",
     "shell.execute_reply": "2024-06-26T07:01:09.657922Z",
     "shell.execute_reply.started": "2024-06-26T07:01:02.286649Z"
    },
    "tags": []
   },
   "outputs": [
    {
     "data": {
      "application/vnd.jupyter.widget-view+json": {
       "model_id": "e24eebded67441b9ad097b33f7f20916",
       "version_major": 2,
       "version_minor": 0
      },
      "text/plain": [
       "VBox()"
      ]
     },
     "metadata": {},
     "output_type": "display_data"
    },
    {
     "data": {
      "application/vnd.jupyter.widget-view+json": {
       "model_id": "",
       "version_major": 2,
       "version_minor": 0
      },
      "text/plain": [
       "FloatProgress(value=0.0, bar_style='info', description='Progress:', layout=Layout(height='25px', width='50%'),…"
      ]
     },
     "metadata": {},
     "output_type": "display_data"
    },
    {
     "name": "stdout",
     "output_type": "stream",
     "text": [
      "sumPM10DF: org.apache.spark.sql.DataFrame = [From Date: string, Total_PM10: double]\n",
      "+-------------------+------------------+\n",
      "|          From Date|        Total_PM10|\n",
      "+-------------------+------------------+\n",
      "|2023-02-19 17:00:00|          36309.48|\n",
      "|2022-12-18 00:00:00| 53035.15000000001|\n",
      "|2022-12-19 22:00:00| 62498.70999999999|\n",
      "|2022-11-06 08:00:00|          37016.99|\n",
      "|2012-08-08 05:00:00|             14.21|\n",
      "|2012-11-22 02:00:00|              NULL|\n",
      "|2013-02-04 08:00:00|              3.06|\n",
      "|2013-03-07 08:00:00|            163.98|\n",
      "|2013-03-10 12:00:00|             83.76|\n",
      "|2013-03-17 17:00:00|              NULL|\n",
      "|2013-04-04 04:00:00|            407.96|\n",
      "|2013-05-08 21:00:00|172.60999999999999|\n",
      "|2013-10-19 06:00:00|              NULL|\n",
      "|2013-10-19 08:00:00|              NULL|\n",
      "|2013-10-21 03:00:00|              9.12|\n",
      "|2013-10-24 19:00:00|              6.73|\n",
      "|2013-10-25 12:00:00|             40.23|\n",
      "|2013-11-25 14:00:00|              1.85|\n",
      "|2014-05-07 05:00:00|            306.63|\n",
      "|2014-05-14 01:00:00|             63.75|\n",
      "+-------------------+------------------+\n",
      "only showing top 20 rows\n",
      "\n"
     ]
    }
   ],
   "source": [
    "val sumPM10DF = df_parquet.groupBy(\"From Date\").agg(sum(\"PM10 (ug/m3)\").alias(\"Total_PM10\"))\n",
    "sumPM10DF.show()"
   ]
  },
  {
   "cell_type": "code",
   "execution_count": 7,
   "id": "668f30df-e4ce-4dfa-a69e-9372271bdacb",
   "metadata": {
    "execution": {
     "iopub.execute_input": "2024-06-26T07:01:09.660743Z",
     "iopub.status.busy": "2024-06-26T07:01:09.660567Z",
     "iopub.status.idle": "2024-06-26T07:01:10.417777Z",
     "shell.execute_reply": "2024-06-26T07:01:10.417059Z",
     "shell.execute_reply.started": "2024-06-26T07:01:09.660716Z"
    },
    "tags": []
   },
   "outputs": [
    {
     "data": {
      "application/vnd.jupyter.widget-view+json": {
       "model_id": "1188f485e09944eb947162d01c6d2de6",
       "version_major": 2,
       "version_minor": 0
      },
      "text/plain": [
       "VBox()"
      ]
     },
     "metadata": {},
     "output_type": "display_data"
    },
    {
     "data": {
      "application/vnd.jupyter.widget-view+json": {
       "model_id": "",
       "version_major": 2,
       "version_minor": 0
      },
      "text/plain": [
       "FloatProgress(value=0.0, bar_style='info', description='Progress:', layout=Layout(height='25px', width='50%'),…"
      ]
     },
     "metadata": {},
     "output_type": "display_data"
    },
    {
     "name": "stdout",
     "output_type": "stream",
     "text": [
      "root\n",
      " |-- From Date: string (nullable = true)\n",
      " |-- To Date: string (nullable = true)\n",
      " |-- PM2.5 (ug/m3): string (nullable = true)\n",
      " |-- PM10 (ug/m3): string (nullable = true)\n",
      " |-- NO (ug/m3): string (nullable = true)\n",
      " |-- NO2 (ug/m3): string (nullable = true)\n",
      " |-- NOx (ppb): string (nullable = true)\n",
      " |-- NH3 (ug/m3): string (nullable = true)\n",
      " |-- SO2 (ug/m3): string (nullable = true)\n",
      " |-- CO (mg/m3): string (nullable = true)\n",
      " |-- Ozone (ug/m3): string (nullable = true)\n",
      " |-- Benzene (ug/m3): string (nullable = true)\n",
      " |-- Toluene (ug/m3): string (nullable = true)\n",
      " |-- Eth-Benzene (ug/m3): string (nullable = true)\n",
      " |-- MP-Xylene (ug/m3): string (nullable = true)\n",
      " |-- O Xylene (ug/m3): string (nullable = true)\n",
      " |-- Temp (degree C): string (nullable = true)\n",
      " |-- RH (%): string (nullable = true)\n",
      " |-- WS (m/s): string (nullable = true)\n",
      " |-- WD (deg): string (nullable = true)\n",
      " |-- SR (W/mt2): string (nullable = true)\n",
      " |-- BP (mmHg): string (nullable = true)\n",
      " |-- VWS (m/s): string (nullable = true)\n",
      " |-- Xylene (ug/m3): string (nullable = true)\n",
      " |-- AT (degree C): string (nullable = true)\n",
      "\n"
     ]
    }
   ],
   "source": [
    "df_parquet.printSchema()"
   ]
  },
  {
   "cell_type": "code",
   "execution_count": 8,
   "id": "fc983b45-9142-4393-8a44-c5472bb7c2f6",
   "metadata": {
    "execution": {
     "iopub.execute_input": "2024-06-26T07:01:10.419297Z",
     "iopub.status.busy": "2024-06-26T07:01:10.419133Z",
     "iopub.status.idle": "2024-06-26T07:01:15.696919Z",
     "shell.execute_reply": "2024-06-26T07:01:15.696228Z",
     "shell.execute_reply.started": "2024-06-26T07:01:10.419275Z"
    },
    "tags": []
   },
   "outputs": [
    {
     "data": {
      "application/vnd.jupyter.widget-view+json": {
       "model_id": "b44ae31832314316bd6ed85999a5952d",
       "version_major": 2,
       "version_minor": 0
      },
      "text/plain": [
       "VBox()"
      ]
     },
     "metadata": {},
     "output_type": "display_data"
    },
    {
     "data": {
      "application/vnd.jupyter.widget-view+json": {
       "model_id": "",
       "version_major": 2,
       "version_minor": 0
      },
      "text/plain": [
       "FloatProgress(value=0.0, bar_style='info', description='Progress:', layout=Layout(height='25px', width='50%'),…"
      ]
     },
     "metadata": {},
     "output_type": "display_data"
    },
    {
     "name": "stdout",
     "output_type": "stream",
     "text": [
      "avgPM25DF: org.apache.spark.sql.DataFrame = [From Date: string, Avg_PM25: double]\n",
      "+-------------------+------------------+\n",
      "|          From Date|          Avg_PM25|\n",
      "+-------------------+------------------+\n",
      "|2023-02-19 17:00:00| 72.38812749003985|\n",
      "|2022-12-18 00:00:00|134.44160869565218|\n",
      "|2022-12-19 22:00:00| 158.1076348547718|\n",
      "|2022-11-06 08:00:00| 96.90310185185184|\n",
      "|2012-08-08 05:00:00|             49.28|\n",
      "|2012-11-22 02:00:00|203.11166666666668|\n",
      "|2013-02-04 08:00:00|232.30499999999998|\n",
      "|2013-03-07 08:00:00|140.50166666666667|\n",
      "|2013-03-10 12:00:00|            148.32|\n",
      "|2013-03-17 17:00:00|           105.175|\n",
      "|2013-04-04 04:00:00|           154.488|\n",
      "|2013-05-08 21:00:00|            99.015|\n",
      "|2013-10-19 06:00:00|           181.925|\n",
      "|2013-10-19 08:00:00|           166.475|\n",
      "|2013-10-21 03:00:00|           302.435|\n",
      "|2013-10-24 19:00:00|            192.77|\n",
      "|2013-10-25 12:00:00|           179.685|\n",
      "|2013-11-25 14:00:00|             190.5|\n",
      "|2014-05-07 05:00:00|146.81333333333333|\n",
      "|2014-05-14 01:00:00| 52.89333333333334|\n",
      "+-------------------+------------------+\n",
      "only showing top 20 rows\n",
      "\n"
     ]
    }
   ],
   "source": [
    "val avgPM25DF = df_parquet.groupBy(\"`From Date`\").agg(avg($\"`PM2.5 (ug/m3)`\").alias(\"Avg_PM25\"))\n",
    "avgPM25DF.show()"
   ]
  },
  {
   "cell_type": "code",
   "execution_count": 18,
   "id": "811fd84a-1db0-4f3e-aa14-c6ffc7cec4fb",
   "metadata": {
    "execution": {
     "iopub.execute_input": "2024-06-26T07:02:15.313918Z",
     "iopub.status.busy": "2024-06-26T07:02:15.313745Z",
     "iopub.status.idle": "2024-06-26T07:02:20.590859Z",
     "shell.execute_reply": "2024-06-26T07:02:20.590218Z",
     "shell.execute_reply.started": "2024-06-26T07:02:15.313895Z"
    },
    "tags": []
   },
   "outputs": [
    {
     "data": {
      "application/vnd.jupyter.widget-view+json": {
       "model_id": "d848e817dfa54325969e7693a7077fa8",
       "version_major": 2,
       "version_minor": 0
      },
      "text/plain": [
       "VBox()"
      ]
     },
     "metadata": {},
     "output_type": "display_data"
    },
    {
     "data": {
      "application/vnd.jupyter.widget-view+json": {
       "model_id": "",
       "version_major": 2,
       "version_minor": 0
      },
      "text/plain": [
       "FloatProgress(value=0.0, bar_style='info', description='Progress:', layout=Layout(height='25px', width='50%'),…"
      ]
     },
     "metadata": {},
     "output_type": "display_data"
    },
    {
     "name": "stdout",
     "output_type": "stream",
     "text": [
      "maxPM10DF: org.apache.spark.sql.DataFrame = [Date: string, Max_PM10: double]\n",
      "+----------+------------------+\n",
      "|      Date|          Max_PM10|\n",
      "+----------+------------------+\n",
      "|2013-03-14|            2280.5|\n",
      "|2017-05-14|59428.029999999984|\n",
      "|2010-09-24| 8900.239999999998|\n",
      "|2011-01-29|3826.3200000000006|\n",
      "|2016-08-08|          16474.36|\n",
      "|2016-08-20|15348.859999999999|\n",
      "|2019-09-29|         132535.67|\n",
      "|2010-03-06|              NULL|\n",
      "|2023-02-10| 964510.2899999999|\n",
      "|2015-02-28| 9033.600000000002|\n",
      "|2015-11-20| 88530.90999999999|\n",
      "|2016-07-06|27803.090000000004|\n",
      "|2013-11-08|451.15000000000003|\n",
      "|2014-03-17| 5535.359999999999|\n",
      "|2016-04-15| 46232.75999999998|\n",
      "|2018-03-16|         273989.86|\n",
      "|2020-06-20| 285331.1400000001|\n",
      "|2010-06-15|              NULL|\n",
      "|2014-07-24|1710.0600000000002|\n",
      "|2014-08-29|           2221.35|\n",
      "+----------+------------------+\n",
      "only showing top 20 rows\n",
      "\n"
     ]
    }
   ],
   "source": [
    "val maxPM10DF = df_parquet.groupBy(date_format($\"`From Date`\", \"yyyy-MM-dd\").alias(\"Date\")).agg(sum($\"`PM10 (ug/m3)`\").alias(\"Max_PM10\"))\n",
    "maxPM10DF.show()"
   ]
  },
  {
   "cell_type": "code",
   "execution_count": 10,
   "id": "3ec098e5-4e3f-4d5b-a870-9ce8899af626",
   "metadata": {
    "execution": {
     "iopub.execute_input": "2024-06-26T07:01:24.985745Z",
     "iopub.status.busy": "2024-06-26T07:01:24.985462Z",
     "iopub.status.idle": "2024-06-26T07:01:32.295824Z",
     "shell.execute_reply": "2024-06-26T07:01:32.295176Z",
     "shell.execute_reply.started": "2024-06-26T07:01:24.985706Z"
    },
    "tags": []
   },
   "outputs": [
    {
     "data": {
      "application/vnd.jupyter.widget-view+json": {
       "model_id": "7268975420224447ae28b9ed347ac6d3",
       "version_major": 2,
       "version_minor": 0
      },
      "text/plain": [
       "VBox()"
      ]
     },
     "metadata": {},
     "output_type": "display_data"
    },
    {
     "data": {
      "application/vnd.jupyter.widget-view+json": {
       "model_id": "",
       "version_major": 2,
       "version_minor": 0
      },
      "text/plain": [
       "FloatProgress(value=0.0, bar_style='info', description='Progress:', layout=Layout(height='25px', width='50%'),…"
      ]
     },
     "metadata": {},
     "output_type": "display_data"
    },
    {
     "name": "stdout",
     "output_type": "stream",
     "text": [
      "totalNOxDF: org.apache.spark.sql.DataFrame = [Date: string, Total_NOx: double]\n",
      "+----------+------------------+\n",
      "|      Date|         Total_NOx|\n",
      "+----------+------------------+\n",
      "|2013-03-14| 6203.450000000002|\n",
      "|2017-05-14|18009.849999999995|\n",
      "|2010-09-24|10808.720000000008|\n",
      "|2011-01-29|15406.469999999998|\n",
      "|2016-08-08| 19545.46000000001|\n",
      "|2016-08-20| 8315.269999999999|\n",
      "|2019-09-29| 67615.86999999997|\n",
      "|2010-03-06|           9228.27|\n",
      "|2023-02-10|         235600.93|\n",
      "|2015-02-28|5468.8600000000015|\n",
      "|2015-11-20| 29525.05999999999|\n",
      "|2016-07-06|14975.179999999998|\n",
      "|2013-11-08|6287.8599999999915|\n",
      "|2014-03-17|5193.9400000000005|\n",
      "|2016-04-15|          24527.21|\n",
      "|2018-03-16| 78227.90000000004|\n",
      "|2020-06-20| 66671.37999999999|\n",
      "|2010-06-15|           4652.34|\n",
      "|2014-07-24| 8644.599999999997|\n",
      "|2014-08-29|           3268.24|\n",
      "+----------+------------------+\n",
      "only showing top 20 rows\n",
      "\n"
     ]
    }
   ],
   "source": [
    "val totalNOxDF = df_parquet.groupBy(date_format($\"`From Date`\", \"yyyy-MM-dd\").alias(\"Date\")).agg(sum($\"`NOx (ppb)`\").alias(\"Total_NOx\"))\n",
    "totalNOxDF.show()\n"
   ]
  },
  {
   "cell_type": "code",
   "execution_count": 11,
   "id": "7e9767bd-97be-41b6-8076-e7d0e860028d",
   "metadata": {
    "execution": {
     "iopub.execute_input": "2024-06-26T07:01:32.297277Z",
     "iopub.status.busy": "2024-06-26T07:01:32.297019Z",
     "iopub.status.idle": "2024-06-26T07:01:35.571092Z",
     "shell.execute_reply": "2024-06-26T07:01:35.570267Z",
     "shell.execute_reply.started": "2024-06-26T07:01:32.297238Z"
    },
    "tags": []
   },
   "outputs": [
    {
     "data": {
      "application/vnd.jupyter.widget-view+json": {
       "model_id": "d94b08ff877343cbb74e7195e6f79d24",
       "version_major": 2,
       "version_minor": 0
      },
      "text/plain": [
       "VBox()"
      ]
     },
     "metadata": {},
     "output_type": "display_data"
    },
    {
     "data": {
      "application/vnd.jupyter.widget-view+json": {
       "model_id": "",
       "version_major": 2,
       "version_minor": 0
      },
      "text/plain": [
       "FloatProgress(value=0.0, bar_style='info', description='Progress:', layout=Layout(height='25px', width='50%'),…"
      ]
     },
     "metadata": {},
     "output_type": "display_data"
    },
    {
     "name": "stdout",
     "output_type": "stream",
     "text": [
      "avgTempDF: org.apache.spark.sql.DataFrame = [From Date: string, Avg_Temp: double]\n",
      "+-------------------+------------------+\n",
      "|          From Date|          Avg_Temp|\n",
      "+-------------------+------------------+\n",
      "|2023-02-19 17:00:00|  57.8602752293578|\n",
      "|2022-12-18 00:00:00| 75.96326203208557|\n",
      "|2022-12-19 22:00:00| 73.88394871794871|\n",
      "|2022-11-06 08:00:00| 71.08162790697675|\n",
      "|2012-08-08 05:00:00|173.08090909090907|\n",
      "|2012-11-22 02:00:00| 78.07222222222224|\n",
      "|2013-02-04 08:00:00|107.27333333333335|\n",
      "|2013-03-07 08:00:00|            130.76|\n",
      "|2013-03-10 12:00:00|145.86166666666665|\n",
      "|2013-03-17 17:00:00|             34.67|\n",
      "|2013-04-04 04:00:00| 52.63249999999999|\n",
      "|2013-05-08 21:00:00|136.35142857142856|\n",
      "|2013-10-19 06:00:00| 46.47833333333333|\n",
      "|2013-10-19 08:00:00|45.913333333333334|\n",
      "|2013-10-21 03:00:00|169.44166666666663|\n",
      "|2013-10-24 19:00:00|119.41777777777777|\n",
      "|2013-10-25 12:00:00|117.06666666666666|\n",
      "|2013-11-25 14:00:00|122.68874999999998|\n",
      "|2014-05-07 05:00:00|149.53166666666667|\n",
      "|2014-05-14 01:00:00|           148.995|\n",
      "+-------------------+------------------+\n",
      "only showing top 20 rows\n",
      "\n"
     ]
    }
   ],
   "source": [
    "val avgTempDF = df_parquet.groupBy(\"`From Date`\").agg(avg($\"`Temp (degree C)`\").alias(\"Avg_Temp\"))\n",
    "avgTempDF.show()\n"
   ]
  },
  {
   "cell_type": "code",
   "execution_count": 12,
   "id": "f2b04d01-21f9-45c4-b262-dd6ae628a058",
   "metadata": {
    "execution": {
     "iopub.execute_input": "2024-06-26T07:01:35.572710Z",
     "iopub.status.busy": "2024-06-26T07:01:35.572431Z",
     "iopub.status.idle": "2024-06-26T07:01:42.889003Z",
     "shell.execute_reply": "2024-06-26T07:01:42.888304Z",
     "shell.execute_reply.started": "2024-06-26T07:01:35.572669Z"
    },
    "tags": []
   },
   "outputs": [
    {
     "data": {
      "application/vnd.jupyter.widget-view+json": {
       "model_id": "cb3195008b984ebba622613ca0bd1f25",
       "version_major": 2,
       "version_minor": 0
      },
      "text/plain": [
       "VBox()"
      ]
     },
     "metadata": {},
     "output_type": "display_data"
    },
    {
     "data": {
      "application/vnd.jupyter.widget-view+json": {
       "model_id": "",
       "version_major": 2,
       "version_minor": 0
      },
      "text/plain": [
       "FloatProgress(value=0.0, bar_style='info', description='Progress:', layout=Layout(height='25px', width='50%'),…"
      ]
     },
     "metadata": {},
     "output_type": "display_data"
    },
    {
     "name": "stdout",
     "output_type": "stream",
     "text": [
      "maxCODF: org.apache.spark.sql.DataFrame = [From Date: string, Max_CO: string]\n",
      "+-------------------+------+\n",
      "|          From Date|Max_CO|\n",
      "+-------------------+------+\n",
      "|2010-01-01 20:00:00|  6.75|\n",
      "|2010-01-05 05:00:00|  6.86|\n",
      "|2010-01-05 06:00:00|  7.51|\n",
      "|2010-01-07 02:00:00|   6.7|\n",
      "|2010-01-07 22:00:00|  8.34|\n",
      "|2010-01-08 03:00:00|  5.21|\n",
      "|2010-01-10 22:00:00|  8.98|\n",
      "|2010-01-11 05:00:00|  5.87|\n",
      "|2010-01-11 15:00:00|  5.62|\n",
      "|2010-01-12 12:00:00|  5.61|\n",
      "|2010-01-14 11:00:00|  3.78|\n",
      "|2010-01-16 20:00:00|   5.1|\n",
      "|2010-01-18 07:00:00|   3.6|\n",
      "|2010-01-19 01:00:00|  3.58|\n",
      "|2010-01-19 10:00:00| 39.67|\n",
      "|2010-01-20 05:00:00|  2.81|\n",
      "|2010-01-20 06:00:00|  2.06|\n",
      "|2010-01-22 01:00:00|  8.56|\n",
      "|2010-01-22 18:00:00|  5.37|\n",
      "|2010-01-23 01:00:00|  2.04|\n",
      "+-------------------+------+\n",
      "only showing top 20 rows\n",
      "\n"
     ]
    }
   ],
   "source": [
    "val maxCODF = df_parquet.groupBy(\"`From Date`\").agg(max($\"`CO (mg/m3)`\").alias(\"Max_CO\"))\n",
    "maxCODF.show()"
   ]
  },
  {
   "cell_type": "code",
   "execution_count": 13,
   "id": "bbe62fcf-bc79-4c9b-b796-e07290c89e38",
   "metadata": {
    "execution": {
     "iopub.execute_input": "2024-06-26T07:01:42.890159Z",
     "iopub.status.busy": "2024-06-26T07:01:42.889990Z",
     "iopub.status.idle": "2024-06-26T07:01:50.178383Z",
     "shell.execute_reply": "2024-06-26T07:01:50.177675Z",
     "shell.execute_reply.started": "2024-06-26T07:01:42.890135Z"
    },
    "tags": []
   },
   "outputs": [
    {
     "data": {
      "application/vnd.jupyter.widget-view+json": {
       "model_id": "2ec247449cbe49a79b1c14e0209f58e2",
       "version_major": 2,
       "version_minor": 0
      },
      "text/plain": [
       "VBox()"
      ]
     },
     "metadata": {},
     "output_type": "display_data"
    },
    {
     "data": {
      "application/vnd.jupyter.widget-view+json": {
       "model_id": "",
       "version_major": 2,
       "version_minor": 0
      },
      "text/plain": [
       "FloatProgress(value=0.0, bar_style='info', description='Progress:', layout=Layout(height='25px', width='50%'),…"
      ]
     },
     "metadata": {},
     "output_type": "display_data"
    },
    {
     "name": "stdout",
     "output_type": "stream",
     "text": [
      "sumNO2DF: org.apache.spark.sql.DataFrame = [Date: string, Sum_NO2: double]\n",
      "+----------+------------------+\n",
      "|      Date|           Sum_NO2|\n",
      "+----------+------------------+\n",
      "|2013-03-14| 4741.159999999998|\n",
      "|2017-05-14|19435.119999999995|\n",
      "|2010-09-24|6436.4199999999955|\n",
      "|2011-01-29| 15709.45999999999|\n",
      "|2016-08-08|14576.829999999996|\n",
      "|2016-08-20|          13423.14|\n",
      "|2019-09-29| 58750.55999999999|\n",
      "|2010-03-06| 5508.689999999998|\n",
      "|2023-02-10|          203561.0|\n",
      "|2015-02-28| 4279.549999999999|\n",
      "|2015-11-20|32965.669999999984|\n",
      "|2016-07-06|          13580.98|\n",
      "|2013-11-08| 4745.839999999998|\n",
      "|2014-03-17|           3928.83|\n",
      "|2016-04-15|21599.390000000003|\n",
      "|2018-03-16|          58946.98|\n",
      "|2020-06-20| 57952.14000000003|\n",
      "|2010-06-15| 3597.129999999999|\n",
      "|2014-07-24| 4733.970000000002|\n",
      "|2014-08-29|2946.3700000000013|\n",
      "+----------+------------------+\n",
      "only showing top 20 rows\n",
      "\n"
     ]
    }
   ],
   "source": [
    "val sumNO2DF = df_parquet.groupBy(date_format($\"`From Date`\", \"yyyy-MM-dd\").alias(\"Date\")).agg(sum($\"`NO2 (ug/m3)`\").alias(\"Sum_NO2\"))\n",
    "sumNO2DF.show()"
   ]
  },
  {
   "cell_type": "code",
   "execution_count": 14,
   "id": "dd84b987-501c-4ebe-99c3-b1229682d520",
   "metadata": {
    "execution": {
     "iopub.execute_input": "2024-06-26T07:01:50.179729Z",
     "iopub.status.busy": "2024-06-26T07:01:50.179443Z",
     "iopub.status.idle": "2024-06-26T07:02:01.482507Z",
     "shell.execute_reply": "2024-06-26T07:02:01.481830Z",
     "shell.execute_reply.started": "2024-06-26T07:01:50.179690Z"
    },
    "tags": []
   },
   "outputs": [
    {
     "data": {
      "application/vnd.jupyter.widget-view+json": {
       "model_id": "7171e9e5d1ef4a4081ef135d604dab99",
       "version_major": 2,
       "version_minor": 0
      },
      "text/plain": [
       "VBox()"
      ]
     },
     "metadata": {},
     "output_type": "display_data"
    },
    {
     "data": {
      "application/vnd.jupyter.widget-view+json": {
       "model_id": "",
       "version_major": 2,
       "version_minor": 0
      },
      "text/plain": [
       "FloatProgress(value=0.0, bar_style='info', description='Progress:', layout=Layout(height='25px', width='50%'),…"
      ]
     },
     "metadata": {},
     "output_type": "display_data"
    },
    {
     "name": "stdout",
     "output_type": "stream",
     "text": [
      "minRHDF: org.apache.spark.sql.DataFrame = [Date: string, Min_RH: string]\n",
      "+----------+------+\n",
      "|      Date|Min_RH|\n",
      "+----------+------+\n",
      "|2010-01-01|  0.06|\n",
      "|2010-01-02|  0.04|\n",
      "|2010-01-03|  0.04|\n",
      "|2010-01-04|  0.09|\n",
      "|2010-01-05|  0.06|\n",
      "|2010-01-06|  0.06|\n",
      "|2010-01-07|  0.03|\n",
      "|2010-01-08|  0.03|\n",
      "|2010-01-09|  0.03|\n",
      "|2010-01-10|  0.04|\n",
      "|2010-01-11|  0.03|\n",
      "|2010-01-12|  0.04|\n",
      "|2010-01-13|  0.03|\n",
      "|2010-01-14|  0.02|\n",
      "|2010-01-15|  0.01|\n",
      "|2010-01-16|  0.05|\n",
      "|2010-01-17|  0.06|\n",
      "|2010-01-18|  0.06|\n",
      "|2010-01-19|  0.28|\n",
      "|2010-01-20|  0.02|\n",
      "+----------+------+\n",
      "only showing top 20 rows\n",
      "\n"
     ]
    }
   ],
   "source": [
    "val minRHDF = df_parquet.groupBy(date_format($\"`From Date`\", \"yyyy-MM-dd\").alias(\"Date\")).agg(min($\"`RH (%)`\").alias(\"Min_RH\"))\n",
    "minRHDF.show()\n"
   ]
  },
  {
   "cell_type": "code",
   "execution_count": 15,
   "id": "2d3a9c3e-b416-4386-a607-ecb2f8b46b0a",
   "metadata": {
    "execution": {
     "iopub.execute_input": "2024-06-26T07:02:01.483965Z",
     "iopub.status.busy": "2024-06-26T07:02:01.483713Z",
     "iopub.status.idle": "2024-06-26T07:02:06.760654Z",
     "shell.execute_reply": "2024-06-26T07:02:06.760017Z",
     "shell.execute_reply.started": "2024-06-26T07:02:01.483927Z"
    },
    "tags": []
   },
   "outputs": [
    {
     "data": {
      "application/vnd.jupyter.widget-view+json": {
       "model_id": "919619845d9a42a6a5a7f4465915ef67",
       "version_major": 2,
       "version_minor": 0
      },
      "text/plain": [
       "VBox()"
      ]
     },
     "metadata": {},
     "output_type": "display_data"
    },
    {
     "data": {
      "application/vnd.jupyter.widget-view+json": {
       "model_id": "",
       "version_major": 2,
       "version_minor": 0
      },
      "text/plain": [
       "FloatProgress(value=0.0, bar_style='info', description='Progress:', layout=Layout(height='25px', width='50%'),…"
      ]
     },
     "metadata": {},
     "output_type": "display_data"
    },
    {
     "name": "stdout",
     "output_type": "stream",
     "text": [
      "avgWSDF: org.apache.spark.sql.DataFrame = [From Date: string, Avg_WS: double]\n",
      "+-------------------+------------------+\n",
      "|          From Date|            Avg_WS|\n",
      "+-------------------+------------------+\n",
      "|2023-02-19 17:00:00|233.45175879396984|\n",
      "|2022-12-18 00:00:00|245.31698863636365|\n",
      "|2022-12-19 22:00:00|247.86244565217393|\n",
      "|2022-11-06 08:00:00|278.26988372093024|\n",
      "|2012-08-08 05:00:00|162.08272727272728|\n",
      "|2012-11-22 02:00:00|         253.80625|\n",
      "|2013-02-04 08:00:00|239.08153846153846|\n",
      "|2013-03-07 08:00:00|166.77272727272728|\n",
      "|2013-03-10 12:00:00| 270.0957142857143|\n",
      "|2013-03-17 17:00:00|           91.5375|\n",
      "|2013-04-04 04:00:00|           280.985|\n",
      "|2013-05-08 21:00:00|37.919999999999995|\n",
      "|2013-10-19 06:00:00| 54.79833333333334|\n",
      "|2013-10-19 08:00:00|137.38333333333333|\n",
      "|2013-10-21 03:00:00| 67.56333333333333|\n",
      "|2013-10-24 19:00:00| 36.41857142857143|\n",
      "|2013-10-25 12:00:00|159.20666666666665|\n",
      "|2013-11-25 14:00:00| 64.10874999999999|\n",
      "|2014-05-07 05:00:00|            13.705|\n",
      "|2014-05-14 01:00:00|              6.56|\n",
      "+-------------------+------------------+\n",
      "only showing top 20 rows\n",
      "\n"
     ]
    }
   ],
   "source": [
    "val avgWSDF = df_parquet.groupBy(\"`From Date`\").agg(avg($\"`WS (m/s)`\").alias(\"Avg_WS\"))\n",
    "avgWSDF.show()"
   ]
  },
  {
   "cell_type": "code",
   "execution_count": 16,
   "id": "50546948-e481-4f69-9bbc-6acbb730d004",
   "metadata": {
    "execution": {
     "iopub.execute_input": "2024-06-26T07:02:06.763774Z",
     "iopub.status.busy": "2024-06-26T07:02:06.763574Z",
     "iopub.status.idle": "2024-06-26T07:02:12.040951Z",
     "shell.execute_reply": "2024-06-26T07:02:12.040220Z",
     "shell.execute_reply.started": "2024-06-26T07:02:06.763748Z"
    },
    "tags": []
   },
   "outputs": [
    {
     "data": {
      "application/vnd.jupyter.widget-view+json": {
       "model_id": "c5b10fe2d2884458863ea923f977fa38",
       "version_major": 2,
       "version_minor": 0
      },
      "text/plain": [
       "VBox()"
      ]
     },
     "metadata": {},
     "output_type": "display_data"
    },
    {
     "data": {
      "application/vnd.jupyter.widget-view+json": {
       "model_id": "",
       "version_major": 2,
       "version_minor": 0
      },
      "text/plain": [
       "FloatProgress(value=0.0, bar_style='info', description='Progress:', layout=Layout(height='25px', width='50%'),…"
      ]
     },
     "metadata": {},
     "output_type": "display_data"
    },
    {
     "name": "stdout",
     "output_type": "stream",
     "text": [
      "maxSRDF: org.apache.spark.sql.DataFrame = [From Date: string, Max_SR: string]\n",
      "+-------------------+------+\n",
      "|          From Date|Max_SR|\n",
      "+-------------------+------+\n",
      "|2010-01-01 20:00:00| 999.9|\n",
      "|2010-01-05 05:00:00|994.72|\n",
      "|2010-01-05 06:00:00|995.13|\n",
      "|2010-01-07 02:00:00|998.16|\n",
      "|2010-01-07 22:00:00|732.52|\n",
      "|2010-01-08 03:00:00|999.13|\n",
      "|2010-01-10 22:00:00| 91.91|\n",
      "|2010-01-11 05:00:00| 87.88|\n",
      "|2010-01-11 15:00:00|732.33|\n",
      "|2010-01-12 12:00:00|732.79|\n",
      "|2010-01-14 11:00:00|731.31|\n",
      "|2010-01-16 20:00:00|732.61|\n",
      "|2010-01-18 07:00:00| 89.26|\n",
      "|2010-01-19 01:00:00|732.72|\n",
      "|2010-01-19 10:00:00|732.45|\n",
      "|2010-01-20 05:00:00|732.58|\n",
      "|2010-01-20 06:00:00|732.64|\n",
      "|2010-01-22 01:00:00|999.58|\n",
      "|2010-01-22 18:00:00|998.86|\n",
      "|2010-01-23 01:00:00|  8.15|\n",
      "+-------------------+------+\n",
      "only showing top 20 rows\n",
      "\n"
     ]
    }
   ],
   "source": [
    "val maxSRDF = df_parquet.groupBy(\"`From Date`\").agg(max($\"`SR (W/mt2)`\").alias(\"Max_SR\"))\n",
    "maxSRDF.show()"
   ]
  },
  {
   "cell_type": "code",
   "execution_count": 17,
   "id": "916ecc3b-cb59-4506-898f-801e6c435602",
   "metadata": {
    "execution": {
     "iopub.execute_input": "2024-06-26T07:02:12.042243Z",
     "iopub.status.busy": "2024-06-26T07:02:12.042065Z",
     "iopub.status.idle": "2024-06-26T07:02:15.312804Z",
     "shell.execute_reply": "2024-06-26T07:02:15.312092Z",
     "shell.execute_reply.started": "2024-06-26T07:02:12.042218Z"
    },
    "tags": []
   },
   "outputs": [
    {
     "data": {
      "application/vnd.jupyter.widget-view+json": {
       "model_id": "12946611613d48acad62491037be2539",
       "version_major": 2,
       "version_minor": 0
      },
      "text/plain": [
       "VBox()"
      ]
     },
     "metadata": {},
     "output_type": "display_data"
    },
    {
     "data": {
      "application/vnd.jupyter.widget-view+json": {
       "model_id": "",
       "version_major": 2,
       "version_minor": 0
      },
      "text/plain": [
       "FloatProgress(value=0.0, bar_style='info', description='Progress:', layout=Layout(height='25px', width='50%'),…"
      ]
     },
     "metadata": {},
     "output_type": "display_data"
    },
    {
     "name": "stdout",
     "output_type": "stream",
     "text": [
      "totalBenzeneDF: org.apache.spark.sql.DataFrame = [From Date: string, Total_Benzene: double]\n",
      "+-------------------+------------------+\n",
      "|          From Date|     Total_Benzene|\n",
      "+-------------------+------------------+\n",
      "|2023-02-19 17:00:00|           1745.31|\n",
      "|2022-12-18 00:00:00|           1934.65|\n",
      "|2022-12-19 22:00:00|1990.8899999999999|\n",
      "|2022-11-06 08:00:00|           1475.08|\n",
      "|2012-08-08 05:00:00|             116.4|\n",
      "|2012-11-22 02:00:00|             96.88|\n",
      "|2013-02-04 08:00:00|             40.92|\n",
      "|2013-03-07 08:00:00|             75.19|\n",
      "|2013-03-10 12:00:00|35.519999999999996|\n",
      "|2013-03-17 17:00:00|              3.41|\n",
      "|2013-04-04 04:00:00|             79.42|\n",
      "|2013-05-08 21:00:00|39.089999999999996|\n",
      "|2013-10-19 06:00:00|             21.98|\n",
      "|2013-10-19 08:00:00|             22.86|\n",
      "|2013-10-21 03:00:00|             53.07|\n",
      "|2013-10-24 19:00:00|             87.66|\n",
      "|2013-10-25 12:00:00|             52.19|\n",
      "|2013-11-25 14:00:00|              32.4|\n",
      "|2014-05-07 05:00:00|             34.84|\n",
      "|2014-05-14 01:00:00|              34.8|\n",
      "+-------------------+------------------+\n",
      "only showing top 20 rows\n",
      "\n"
     ]
    }
   ],
   "source": [
    "val totalBenzeneDF = df_parquet.groupBy(\"`From Date`\").agg(sum($\"`Benzene (ug/m3)`\").alias(\"Total_Benzene\"))\n",
    "totalBenzeneDF.show()"
   ]
  },
  {
   "cell_type": "code",
   "execution_count": 19,
   "id": "bb61a2bc-edc9-4981-b5ce-725db162005e",
   "metadata": {
    "execution": {
     "iopub.execute_input": "2024-06-26T07:03:00.234704Z",
     "iopub.status.busy": "2024-06-26T07:03:00.234448Z",
     "iopub.status.idle": "2024-06-26T07:03:00.488389Z",
     "shell.execute_reply": "2024-06-26T07:03:00.487751Z",
     "shell.execute_reply.started": "2024-06-26T07:03:00.234676Z"
    },
    "tags": []
   },
   "outputs": [
    {
     "data": {
      "application/vnd.jupyter.widget-view+json": {
       "model_id": "72732bd6a945448cb13284ece261ee98",
       "version_major": 2,
       "version_minor": 0
      },
      "text/plain": [
       "VBox()"
      ]
     },
     "metadata": {},
     "output_type": "display_data"
    },
    {
     "data": {
      "application/vnd.jupyter.widget-view+json": {
       "model_id": "",
       "version_major": 2,
       "version_minor": 0
      },
      "text/plain": [
       "FloatProgress(value=0.0, bar_style='info', description='Progress:', layout=Layout(height='25px', width='50%'),…"
      ]
     },
     "metadata": {},
     "output_type": "display_data"
    },
    {
     "name": "stdout",
     "output_type": "stream",
     "text": [
      "mysqlUrl: String = jdbc:mysql://34.94.143.214/spark_emr\n"
     ]
    }
   ],
   "source": [
    "val mysqlUrl = \"jdbc:mysql://34.94.143.214/spark_emr\""
   ]
  },
  {
   "cell_type": "code",
   "execution_count": 20,
   "id": "16670665-a9ed-42ca-8fed-4682fa171305",
   "metadata": {
    "execution": {
     "iopub.execute_input": "2024-06-26T07:03:36.124794Z",
     "iopub.status.busy": "2024-06-26T07:03:36.124545Z",
     "iopub.status.idle": "2024-06-26T07:03:36.373562Z",
     "shell.execute_reply": "2024-06-26T07:03:36.372821Z",
     "shell.execute_reply.started": "2024-06-26T07:03:36.124768Z"
    },
    "tags": []
   },
   "outputs": [
    {
     "data": {
      "application/vnd.jupyter.widget-view+json": {
       "model_id": "ed1731cc2b9149b3be88c96c2845616b",
       "version_major": 2,
       "version_minor": 0
      },
      "text/plain": [
       "VBox()"
      ]
     },
     "metadata": {},
     "output_type": "display_data"
    },
    {
     "data": {
      "application/vnd.jupyter.widget-view+json": {
       "model_id": "",
       "version_major": 2,
       "version_minor": 0
      },
      "text/plain": [
       "FloatProgress(value=0.0, bar_style='info', description='Progress:', layout=Layout(height='25px', width='50%'),…"
      ]
     },
     "metadata": {},
     "output_type": "display_data"
    },
    {
     "name": "stdout",
     "output_type": "stream",
     "text": [
      "mysqlUser: String = admin\n"
     ]
    }
   ],
   "source": [
    "val mysqlUser = \"admin\""
   ]
  },
  {
   "cell_type": "code",
   "execution_count": 35,
   "id": "a0b3275e-bb95-4755-aac6-54dd0d87fdbc",
   "metadata": {
    "execution": {
     "iopub.execute_input": "2024-06-26T07:30:45.348333Z",
     "iopub.status.busy": "2024-06-26T07:30:45.348165Z",
     "iopub.status.idle": "2024-06-26T07:30:45.596838Z",
     "shell.execute_reply": "2024-06-26T07:30:45.595999Z",
     "shell.execute_reply.started": "2024-06-26T07:30:45.348310Z"
    },
    "tags": []
   },
   "outputs": [
    {
     "data": {
      "application/vnd.jupyter.widget-view+json": {
       "model_id": "882d6306a5b14389b8d8006db3a8417c",
       "version_major": 2,
       "version_minor": 0
      },
      "text/plain": [
       "VBox()"
      ]
     },
     "metadata": {},
     "output_type": "display_data"
    },
    {
     "data": {
      "application/vnd.jupyter.widget-view+json": {
       "model_id": "",
       "version_major": 2,
       "version_minor": 0
      },
      "text/plain": [
       "FloatProgress(value=0.0, bar_style='info', description='Progress:', layout=Layout(height='25px', width='50%'),…"
      ]
     },
     "metadata": {},
     "output_type": "display_data"
    },
    {
     "name": "stdout",
     "output_type": "stream",
     "text": [
      "mysqlPassword: String = Ron@1999\n"
     ]
    }
   ],
   "source": [
    "val mysqlPassword = \"Ron@1999\""
   ]
  },
  {
   "cell_type": "markdown",
   "id": "05c1a73d-7412-44c6-a746-9bca9c4b482f",
   "metadata": {},
   "source": [
    "## Write in SQL"
   ]
  },
  {
   "cell_type": "code",
   "execution_count": 22,
   "id": "773e6756-ad3d-4626-a2f1-35389768b469",
   "metadata": {
    "execution": {
     "iopub.execute_input": "2024-06-26T07:03:37.747065Z",
     "iopub.status.busy": "2024-06-26T07:03:37.746849Z",
     "iopub.status.idle": "2024-06-26T07:06:43.584067Z",
     "shell.execute_reply": "2024-06-26T07:06:43.583418Z",
     "shell.execute_reply.started": "2024-06-26T07:03:37.747040Z"
    },
    "tags": []
   },
   "outputs": [
    {
     "data": {
      "application/vnd.jupyter.widget-view+json": {
       "model_id": "f321ae8470aa4f29bb5714d223339f5c",
       "version_major": 2,
       "version_minor": 0
      },
      "text/plain": [
       "VBox()"
      ]
     },
     "metadata": {},
     "output_type": "display_data"
    },
    {
     "data": {
      "application/vnd.jupyter.widget-view+json": {
       "model_id": "",
       "version_major": 2,
       "version_minor": 0
      },
      "text/plain": [
       "FloatProgress(value=0.0, bar_style='info', description='Progress:', layout=Layout(height='25px', width='50%'),…"
      ]
     },
     "metadata": {},
     "output_type": "display_data"
    }
   ],
   "source": [
    "sumPM10DF.write.format(\"jdbc\").options(\n",
    "Map(\n",
    "\"url\" -> mysqlUrl,\n",
    "\"user\" -> mysqlUser,\n",
    "\"password\" -> mysqlPassword,\n",
    "\"dbtable\" -> \"spark_emr\"\n",
    ")).mode(\"append\").save()"
   ]
  },
  {
   "cell_type": "code",
   "execution_count": 23,
   "id": "c2b4b125-180f-48df-8d58-7767263f78c9",
   "metadata": {
    "execution": {
     "iopub.execute_input": "2024-06-26T07:06:43.585419Z",
     "iopub.status.busy": "2024-06-26T07:06:43.585240Z",
     "iopub.status.idle": "2024-06-26T07:09:35.376164Z",
     "shell.execute_reply": "2024-06-26T07:09:35.375491Z",
     "shell.execute_reply.started": "2024-06-26T07:06:43.585395Z"
    },
    "tags": []
   },
   "outputs": [
    {
     "data": {
      "application/vnd.jupyter.widget-view+json": {
       "model_id": "8d28206d8e0945c6a41083191683fc74",
       "version_major": 2,
       "version_minor": 0
      },
      "text/plain": [
       "VBox()"
      ]
     },
     "metadata": {},
     "output_type": "display_data"
    },
    {
     "data": {
      "application/vnd.jupyter.widget-view+json": {
       "model_id": "",
       "version_major": 2,
       "version_minor": 0
      },
      "text/plain": [
       "FloatProgress(value=0.0, bar_style='info', description='Progress:', layout=Layout(height='25px', width='50%'),…"
      ]
     },
     "metadata": {},
     "output_type": "display_data"
    }
   ],
   "source": [
    "avgPM25DF.write.format(\"jdbc\").options(\n",
    "Map(\n",
    "\"url\" -> mysqlUrl,\n",
    "\"user\" -> mysqlUser,\n",
    "\"password\" -> mysqlPassword,\n",
    "\"dbtable\" -> \"avg_PM_25DF\"\n",
    ")).mode(\"append\").save()"
   ]
  },
  {
   "cell_type": "code",
   "execution_count": 24,
   "id": "bcc73b12-550f-4474-b563-3023bf815700",
   "metadata": {
    "execution": {
     "iopub.execute_input": "2024-06-26T07:09:35.378187Z",
     "iopub.status.busy": "2024-06-26T07:09:35.377932Z",
     "iopub.status.idle": "2024-06-26T07:11:18.957355Z",
     "shell.execute_reply": "2024-06-26T07:11:18.956585Z",
     "shell.execute_reply.started": "2024-06-26T07:09:35.378150Z"
    },
    "tags": []
   },
   "outputs": [
    {
     "data": {
      "application/vnd.jupyter.widget-view+json": {
       "model_id": "51d679321c154176a597726d70c9d293",
       "version_major": 2,
       "version_minor": 0
      },
      "text/plain": [
       "VBox()"
      ]
     },
     "metadata": {},
     "output_type": "display_data"
    },
    {
     "data": {
      "application/vnd.jupyter.widget-view+json": {
       "model_id": "",
       "version_major": 2,
       "version_minor": 0
      },
      "text/plain": [
       "FloatProgress(value=0.0, bar_style='info', description='Progress:', layout=Layout(height='25px', width='50%'),…"
      ]
     },
     "metadata": {},
     "output_type": "display_data"
    }
   ],
   "source": [
    "maxPM10DF.write.format(\"jdbc\").options(\n",
    "Map(\n",
    "\"url\" -> mysqlUrl,\n",
    "\"user\" -> mysqlUser,\n",
    "\"password\" -> mysqlPassword,\n",
    "\"dbtable\" -> \"max_PM_10DF\"\n",
    ")).mode(\"append\").save()"
   ]
  },
  {
   "cell_type": "code",
   "execution_count": 25,
   "id": "2d107236-86cb-4149-9965-83ac949c160a",
   "metadata": {
    "execution": {
     "iopub.execute_input": "2024-06-26T07:11:18.959871Z",
     "iopub.status.busy": "2024-06-26T07:11:18.959421Z",
     "iopub.status.idle": "2024-06-26T07:13:00.525068Z",
     "shell.execute_reply": "2024-06-26T07:13:00.524451Z",
     "shell.execute_reply.started": "2024-06-26T07:11:18.959829Z"
    },
    "tags": []
   },
   "outputs": [
    {
     "data": {
      "application/vnd.jupyter.widget-view+json": {
       "model_id": "37c99368ca7a42c484ea637491e33eef",
       "version_major": 2,
       "version_minor": 0
      },
      "text/plain": [
       "VBox()"
      ]
     },
     "metadata": {},
     "output_type": "display_data"
    },
    {
     "data": {
      "application/vnd.jupyter.widget-view+json": {
       "model_id": "",
       "version_major": 2,
       "version_minor": 0
      },
      "text/plain": [
       "FloatProgress(value=0.0, bar_style='info', description='Progress:', layout=Layout(height='25px', width='50%'),…"
      ]
     },
     "metadata": {},
     "output_type": "display_data"
    }
   ],
   "source": [
    "totalNOxDF.write.format(\"jdbc\").options(\n",
    "Map(\n",
    "\"url\" -> mysqlUrl,\n",
    "\"user\" -> mysqlUser,\n",
    "\"password\" -> mysqlPassword,\n",
    "\"dbtable\" -> \"total_nox_df\"\n",
    ")).mode(\"append\").save()"
   ]
  },
  {
   "cell_type": "code",
   "execution_count": 26,
   "id": "a4b31a7a-e903-4c0d-9117-2a935cf402f7",
   "metadata": {
    "execution": {
     "iopub.execute_input": "2024-06-26T07:13:00.526218Z",
     "iopub.status.busy": "2024-06-26T07:13:00.526043Z",
     "iopub.status.idle": "2024-06-26T07:15:50.272087Z",
     "shell.execute_reply": "2024-06-26T07:15:50.271447Z",
     "shell.execute_reply.started": "2024-06-26T07:13:00.526195Z"
    },
    "tags": []
   },
   "outputs": [
    {
     "data": {
      "application/vnd.jupyter.widget-view+json": {
       "model_id": "91b2ac330f644a88817a10254d2d6ee9",
       "version_major": 2,
       "version_minor": 0
      },
      "text/plain": [
       "VBox()"
      ]
     },
     "metadata": {},
     "output_type": "display_data"
    },
    {
     "data": {
      "application/vnd.jupyter.widget-view+json": {
       "model_id": "",
       "version_major": 2,
       "version_minor": 0
      },
      "text/plain": [
       "FloatProgress(value=0.0, bar_style='info', description='Progress:', layout=Layout(height='25px', width='50%'),…"
      ]
     },
     "metadata": {},
     "output_type": "display_data"
    }
   ],
   "source": [
    "avgTempDF.write.format(\"jdbc\").options(\n",
    "Map(\n",
    "\"url\" -> mysqlUrl,\n",
    "\"user\" -> mysqlUser,\n",
    "\"password\" -> mysqlPassword,\n",
    "\"dbtable\" -> \"avg_temp_df\"\n",
    ")).mode(\"append\").save()"
   ]
  },
  {
   "cell_type": "code",
   "execution_count": 27,
   "id": "d8b3e505-74c0-4c6d-82aa-e93f264c308b",
   "metadata": {
    "execution": {
     "iopub.execute_input": "2024-06-26T07:15:50.273154Z",
     "iopub.status.busy": "2024-06-26T07:15:50.272966Z",
     "iopub.status.idle": "2024-06-26T07:18:44.032178Z",
     "shell.execute_reply": "2024-06-26T07:18:44.031469Z",
     "shell.execute_reply.started": "2024-06-26T07:15:50.273128Z"
    },
    "tags": []
   },
   "outputs": [
    {
     "data": {
      "application/vnd.jupyter.widget-view+json": {
       "model_id": "c513a021ee054915a22d6b04661ff150",
       "version_major": 2,
       "version_minor": 0
      },
      "text/plain": [
       "VBox()"
      ]
     },
     "metadata": {},
     "output_type": "display_data"
    },
    {
     "data": {
      "application/vnd.jupyter.widget-view+json": {
       "model_id": "",
       "version_major": 2,
       "version_minor": 0
      },
      "text/plain": [
       "FloatProgress(value=0.0, bar_style='info', description='Progress:', layout=Layout(height='25px', width='50%'),…"
      ]
     },
     "metadata": {},
     "output_type": "display_data"
    }
   ],
   "source": [
    "maxCODF.write.format(\"jdbc\").options(\n",
    "Map(\n",
    "\"url\" -> mysqlUrl,\n",
    "\"user\" -> mysqlUser,\n",
    "\"password\" -> mysqlPassword,\n",
    "\"dbtable\" -> \"max_co_df\"\n",
    ")).mode(\"append\").save()"
   ]
  },
  {
   "cell_type": "code",
   "execution_count": 28,
   "id": "b0fbfadd-e649-4411-bccd-0e1fafb5f5db",
   "metadata": {
    "execution": {
     "iopub.execute_input": "2024-06-26T07:18:44.033816Z",
     "iopub.status.busy": "2024-06-26T07:18:44.033568Z",
     "iopub.status.idle": "2024-06-26T07:20:23.575994Z",
     "shell.execute_reply": "2024-06-26T07:20:23.575349Z",
     "shell.execute_reply.started": "2024-06-26T07:18:44.033780Z"
    },
    "tags": []
   },
   "outputs": [
    {
     "data": {
      "application/vnd.jupyter.widget-view+json": {
       "model_id": "d95c1333d08141da919c69fc05bf647e",
       "version_major": 2,
       "version_minor": 0
      },
      "text/plain": [
       "VBox()"
      ]
     },
     "metadata": {},
     "output_type": "display_data"
    },
    {
     "data": {
      "application/vnd.jupyter.widget-view+json": {
       "model_id": "",
       "version_major": 2,
       "version_minor": 0
      },
      "text/plain": [
       "FloatProgress(value=0.0, bar_style='info', description='Progress:', layout=Layout(height='25px', width='50%'),…"
      ]
     },
     "metadata": {},
     "output_type": "display_data"
    }
   ],
   "source": [
    "sumNO2DF.write.format(\"jdbc\").options(\n",
    "Map(\n",
    "\"url\" -> mysqlUrl,\n",
    "\"user\" -> mysqlUser,\n",
    "\"password\" -> mysqlPassword,\n",
    "\"dbtable\" -> \"sum_no2_df\"\n",
    ")).mode(\"append\").save()"
   ]
  },
  {
   "cell_type": "code",
   "execution_count": 29,
   "id": "2749a602-1fe3-4680-a0c6-5133d469b78a",
   "metadata": {
    "execution": {
     "iopub.execute_input": "2024-06-26T07:20:23.579081Z",
     "iopub.status.busy": "2024-06-26T07:20:23.578825Z",
     "iopub.status.idle": "2024-06-26T07:22:05.135758Z",
     "shell.execute_reply": "2024-06-26T07:22:05.135058Z",
     "shell.execute_reply.started": "2024-06-26T07:20:23.579041Z"
    },
    "tags": []
   },
   "outputs": [
    {
     "data": {
      "application/vnd.jupyter.widget-view+json": {
       "model_id": "3bf644e45f10439f9953b3e1ea194618",
       "version_major": 2,
       "version_minor": 0
      },
      "text/plain": [
       "VBox()"
      ]
     },
     "metadata": {},
     "output_type": "display_data"
    },
    {
     "data": {
      "application/vnd.jupyter.widget-view+json": {
       "model_id": "",
       "version_major": 2,
       "version_minor": 0
      },
      "text/plain": [
       "FloatProgress(value=0.0, bar_style='info', description='Progress:', layout=Layout(height='25px', width='50%'),…"
      ]
     },
     "metadata": {},
     "output_type": "display_data"
    }
   ],
   "source": [
    "minRHDF.write.format(\"jdbc\").options(\n",
    "Map(\n",
    "\"url\" -> mysqlUrl,\n",
    "\"user\" -> mysqlUser,\n",
    "\"password\" -> mysqlPassword,\n",
    "\"dbtable\" -> \"min_RH_df\"\n",
    ")).mode(\"append\").save()"
   ]
  },
  {
   "cell_type": "code",
   "execution_count": 30,
   "id": "a945ec56-1441-4f47-a757-f1d32bad020b",
   "metadata": {
    "execution": {
     "iopub.execute_input": "2024-06-26T07:22:05.137248Z",
     "iopub.status.busy": "2024-06-26T07:22:05.137052Z",
     "iopub.status.idle": "2024-06-26T07:24:54.879101Z",
     "shell.execute_reply": "2024-06-26T07:24:54.878501Z",
     "shell.execute_reply.started": "2024-06-26T07:22:05.137223Z"
    },
    "tags": []
   },
   "outputs": [
    {
     "data": {
      "application/vnd.jupyter.widget-view+json": {
       "model_id": "100f5b44d0c741be8ffec56cf8ca59b8",
       "version_major": 2,
       "version_minor": 0
      },
      "text/plain": [
       "VBox()"
      ]
     },
     "metadata": {},
     "output_type": "display_data"
    },
    {
     "data": {
      "application/vnd.jupyter.widget-view+json": {
       "model_id": "",
       "version_major": 2,
       "version_minor": 0
      },
      "text/plain": [
       "FloatProgress(value=0.0, bar_style='info', description='Progress:', layout=Layout(height='25px', width='50%'),…"
      ]
     },
     "metadata": {},
     "output_type": "display_data"
    }
   ],
   "source": [
    "avgWSDF.write.format(\"jdbc\").options(\n",
    "Map(\n",
    "\"url\" -> mysqlUrl,\n",
    "\"user\" -> mysqlUser,\n",
    "\"password\" -> mysqlPassword,\n",
    "\"dbtable\" -> \"avg_ws_df\"\n",
    ")).mode(\"append\").save()"
   ]
  },
  {
   "cell_type": "code",
   "execution_count": 31,
   "id": "9c20bc1e-5c77-40c3-a28a-3347e0fd31a6",
   "metadata": {
    "execution": {
     "iopub.execute_input": "2024-06-26T07:24:54.880239Z",
     "iopub.status.busy": "2024-06-26T07:24:54.880051Z",
     "iopub.status.idle": "2024-06-26T07:27:48.624106Z",
     "shell.execute_reply": "2024-06-26T07:27:48.623298Z",
     "shell.execute_reply.started": "2024-06-26T07:24:54.880216Z"
    },
    "tags": []
   },
   "outputs": [
    {
     "data": {
      "application/vnd.jupyter.widget-view+json": {
       "model_id": "082ccc68b44249e392cbe1add926e1af",
       "version_major": 2,
       "version_minor": 0
      },
      "text/plain": [
       "VBox()"
      ]
     },
     "metadata": {},
     "output_type": "display_data"
    },
    {
     "data": {
      "application/vnd.jupyter.widget-view+json": {
       "model_id": "",
       "version_major": 2,
       "version_minor": 0
      },
      "text/plain": [
       "FloatProgress(value=0.0, bar_style='info', description='Progress:', layout=Layout(height='25px', width='50%'),…"
      ]
     },
     "metadata": {},
     "output_type": "display_data"
    }
   ],
   "source": [
    "maxSRDF.write.format(\"jdbc\").options(\n",
    "Map(\n",
    "\"url\" -> mysqlUrl,\n",
    "\"user\" -> mysqlUser,\n",
    "\"password\" -> mysqlPassword,\n",
    "\"dbtable\" -> \"max_sr_df\"\n",
    ")).mode(\"append\").save()"
   ]
  },
  {
   "cell_type": "code",
   "execution_count": 32,
   "id": "6cff4b24-db9e-4d23-b46f-4ff28d1fb1f0",
   "metadata": {
    "execution": {
     "iopub.execute_input": "2024-06-26T07:27:48.625664Z",
     "iopub.status.busy": "2024-06-26T07:27:48.625419Z",
     "iopub.status.idle": "2024-06-26T07:30:44.347283Z",
     "shell.execute_reply": "2024-06-26T07:30:44.346683Z",
     "shell.execute_reply.started": "2024-06-26T07:27:48.625635Z"
    },
    "tags": []
   },
   "outputs": [
    {
     "data": {
      "application/vnd.jupyter.widget-view+json": {
       "model_id": "62e8b6826c104bcda2428186e0fe6272",
       "version_major": 2,
       "version_minor": 0
      },
      "text/plain": [
       "VBox()"
      ]
     },
     "metadata": {},
     "output_type": "display_data"
    },
    {
     "data": {
      "application/vnd.jupyter.widget-view+json": {
       "model_id": "",
       "version_major": 2,
       "version_minor": 0
      },
      "text/plain": [
       "FloatProgress(value=0.0, bar_style='info', description='Progress:', layout=Layout(height='25px', width='50%'),…"
      ]
     },
     "metadata": {},
     "output_type": "display_data"
    }
   ],
   "source": [
    "totalBenzeneDF.write.format(\"jdbc\").options(\n",
    "Map(\n",
    "\"url\" -> mysqlUrl,\n",
    "\"user\" -> mysqlUser,\n",
    "\"password\" -> mysqlPassword,\n",
    "\"dbtable\" -> \"total_benzene_df\"\n",
    ")).mode(\"append\").save()"
   ]
  },
  {
   "cell_type": "markdown",
   "id": "0160124f-4e11-45e2-a622-a821dd48cdcb",
   "metadata": {},
   "source": [
    "## Read from SQL "
   ]
  },
  {
   "cell_type": "code",
   "execution_count": 34,
   "id": "04771201-89db-4a80-b578-9e2739d515fb",
   "metadata": {
    "execution": {
     "iopub.execute_input": "2024-06-26T07:30:45.099295Z",
     "iopub.status.busy": "2024-06-26T07:30:45.099035Z",
     "iopub.status.idle": "2024-06-26T07:30:45.345144Z",
     "shell.execute_reply": "2024-06-26T07:30:45.344484Z",
     "shell.execute_reply.started": "2024-06-26T07:30:45.099246Z"
    }
   },
   "outputs": [
    {
     "data": {
      "application/vnd.jupyter.widget-view+json": {
       "model_id": "f972d55f64114b9abe1050bc01f333fc",
       "version_major": 2,
       "version_minor": 0
      },
      "text/plain": [
       "VBox()"
      ]
     },
     "metadata": {},
     "output_type": "display_data"
    },
    {
     "data": {
      "application/vnd.jupyter.widget-view+json": {
       "model_id": "",
       "version_major": 2,
       "version_minor": 0
      },
      "text/plain": [
       "FloatProgress(value=0.0, bar_style='info', description='Progress:', layout=Layout(height='25px', width='50%'),…"
      ]
     },
     "metadata": {},
     "output_type": "display_data"
    },
    {
     "name": "stderr",
     "output_type": "stream",
     "text": [
      "An error was encountered:\n",
      "<console>:23: error: not found: value spark_emr\n",
      "       spark_emr\n",
      "       ^\n",
      "\n"
     ]
    }
   ],
   "source": [
    "\n",
    "\n",
    "\n",
    "\n",
    "\n",
    "\n",
    "\n",
    "\n",
    "\n",
    "\n",
    "total_benzene_df"
   ]
  },
  {
   "cell_type": "code",
   "execution_count": 37,
   "id": "16331a59-c11a-42e8-9f0f-724bf8df2ffd",
   "metadata": {
    "execution": {
     "iopub.execute_input": "2024-06-26T07:31:09.212722Z",
     "iopub.status.busy": "2024-06-26T07:31:09.212488Z",
     "iopub.status.idle": "2024-06-26T07:31:14.480462Z",
     "shell.execute_reply": "2024-06-26T07:31:14.479729Z",
     "shell.execute_reply.started": "2024-06-26T07:31:09.212696Z"
    },
    "tags": []
   },
   "outputs": [
    {
     "data": {
      "application/vnd.jupyter.widget-view+json": {
       "model_id": "fe4f203e55bb4d63aadf85578f6a7bc2",
       "version_major": 2,
       "version_minor": 0
      },
      "text/plain": [
       "VBox()"
      ]
     },
     "metadata": {},
     "output_type": "display_data"
    },
    {
     "data": {
      "application/vnd.jupyter.widget-view+json": {
       "model_id": "",
       "version_major": 2,
       "version_minor": 0
      },
      "text/plain": [
       "FloatProgress(value=0.0, bar_style='info', description='Progress:', layout=Layout(height='25px', width='50%'),…"
      ]
     },
     "metadata": {},
     "output_type": "display_data"
    },
    {
     "name": "stdout",
     "output_type": "stream",
     "text": [
      "+-------------------+------------------+\n",
      "|          From Date|        Total_PM10|\n",
      "+-------------------+------------------+\n",
      "|2023-02-16 18:00:00|60347.759999999995|\n",
      "|2023-03-05 17:00:00|          36095.38|\n",
      "|2023-03-23 16:00:00|26050.019999999997|\n",
      "|2023-01-19 22:00:00| 86513.67000000001|\n",
      "|2023-01-28 00:00:00|52010.100000000006|\n",
      "|2023-01-30 01:00:00|          41274.53|\n",
      "|2023-01-05 01:00:00|           56422.3|\n",
      "|2023-01-09 20:00:00| 93964.46999999999|\n",
      "|              GJ015|              NULL|\n",
      "|              RJ028|              NULL|\n",
      "+-------------------+------------------+\n",
      "only showing top 10 rows\n",
      "\n"
     ]
    }
   ],
   "source": [
    "spark.read.format(\"jdbc\").options(\n",
    "Map(\n",
    "\"url\" -> mysqlUrl,\n",
    "\"user\" -> mysqlUser,\n",
    "\"password\" -> mysqlPassword,\n",
    "\"dbtable\" -> \"spark_emr\"\n",
    ")).load().show(10)"
   ]
  },
  {
   "cell_type": "code",
   "execution_count": null,
   "id": "49065cfd-2931-43c7-9b0c-8a373350245d",
   "metadata": {},
   "outputs": [],
   "source": [
    "spark.read.format(\"jdbc\").options(\n",
    "Map(\n",
    "\"url\" -> mysqlUrl,\n",
    "\"user\" -> mysqlUser,\n",
    "\"password\" -> mysqlPassword,\n",
    "\"dbtable\" -> \"avg_PM_25DF\"\n",
    ")).load().show(10)"
   ]
  },
  {
   "cell_type": "code",
   "execution_count": null,
   "id": "3f8d8e07-ca33-49f6-bb4a-446e876d872f",
   "metadata": {},
   "outputs": [],
   "source": [
    "spark.read.format(\"jdbc\").options(\n",
    "Map(\n",
    "\"url\" -> mysqlUrl,\n",
    "\"user\" -> mysqlUser,\n",
    "\"password\" -> mysqlPassword,\n",
    "\"dbtable\" -> \"max_PM_10DF\"\n",
    ")).load().show(10)"
   ]
  },
  {
   "cell_type": "code",
   "execution_count": null,
   "id": "5d1bd6e5-edd6-4d5e-8612-2b795661ca7c",
   "metadata": {},
   "outputs": [],
   "source": [
    "spark.read.format(\"jdbc\").options(\n",
    "Map(\n",
    "\"url\" -> mysqlUrl,\n",
    "\"user\" -> mysqlUser,\n",
    "\"password\" -> mysqlPassword,\n",
    "\"dbtable\" -> \"total_nox_df\"\n",
    ")).load().show(10)"
   ]
  },
  {
   "cell_type": "code",
   "execution_count": null,
   "id": "260e2521-67ec-432d-8105-e4877dedfdba",
   "metadata": {},
   "outputs": [],
   "source": [
    "spark.read.format(\"jdbc\").options(\n",
    "Map(\n",
    "\"url\" -> mysqlUrl,\n",
    "\"user\" -> mysqlUser,\n",
    "\"password\" -> mysqlPassword,\n",
    "\"dbtable\" -> \"avg_temp_df\"\n",
    ")).load().show(10)"
   ]
  },
  {
   "cell_type": "code",
   "execution_count": null,
   "id": "ebd5d05b-1e6b-4e97-8ef8-ac6a62c16b98",
   "metadata": {},
   "outputs": [],
   "source": [
    "spark.read.format(\"jdbc\").options(\n",
    "Map(\n",
    "\"url\" -> mysqlUrl,\n",
    "\"user\" -> mysqlUser,\n",
    "\"password\" -> mysqlPassword,\n",
    "\"dbtable\" -> \"max_co_df\"\n",
    ")).load().show(10)"
   ]
  },
  {
   "cell_type": "code",
   "execution_count": null,
   "id": "474682d5-8f91-4933-b4c4-1ea31eabe63b",
   "metadata": {},
   "outputs": [],
   "source": [
    "spark.read.format(\"jdbc\").options(\n",
    "Map(\n",
    "\"url\" -> mysqlUrl,\n",
    "\"user\" -> mysqlUser,\n",
    "\"password\" -> mysqlPassword,\n",
    "\"dbtable\" -> \"sum_no2_df\"\n",
    ")).load().show(10)"
   ]
  },
  {
   "cell_type": "code",
   "execution_count": null,
   "id": "dab5aa91-3092-4fe7-b0fd-ee63319ceade",
   "metadata": {},
   "outputs": [],
   "source": [
    "spark.read.format(\"jdbc\").options(\n",
    "Map(\n",
    "\"url\" -> mysqlUrl,\n",
    "\"user\" -> mysqlUser,\n",
    "\"password\" -> mysqlPassword,\n",
    "\"dbtable\" -> \"min_RH_df\"\n",
    ")).load().show(10)"
   ]
  },
  {
   "cell_type": "code",
   "execution_count": null,
   "id": "19341730-f60b-4416-be6f-26e49ba4ec5d",
   "metadata": {},
   "outputs": [],
   "source": [
    "spark.read.format(\"jdbc\").options(\n",
    "Map(\n",
    "\"url\" -> mysqlUrl,\n",
    "\"user\" -> mysqlUser,\n",
    "\"password\" -> mysqlPassword,\n",
    "\"dbtable\" -> \"avg_ws_df\"\n",
    ")).load().show(10)"
   ]
  },
  {
   "cell_type": "code",
   "execution_count": null,
   "id": "9eb30ca0-7f6b-4b70-9f27-e6e3bbd9bc94",
   "metadata": {},
   "outputs": [],
   "source": [
    "spark.read.format(\"jdbc\").options(\n",
    "Map(\n",
    "\"url\" -> mysqlUrl,\n",
    "\"user\" -> mysqlUser,\n",
    "\"password\" -> mysqlPassword,\n",
    "\"dbtable\" -> \"max_sr_df\"\n",
    ")).load().show(10)"
   ]
  },
  {
   "cell_type": "code",
   "execution_count": null,
   "id": "e66c1550-48ea-4a0e-8dfe-11d82ebf37de",
   "metadata": {},
   "outputs": [],
   "source": [
    "spark.read.format(\"jdbc\").options(\n",
    "Map(\n",
    "\"url\" -> mysqlUrl,\n",
    "\"user\" -> mysqlUser,\n",
    "\"password\" -> mysqlPassword,\n",
    "\"dbtable\" -> \"max_sr_df\"\n",
    ")).load().show(10)"
   ]
  }
 ],
 "metadata": {
  "kernelspec": {
   "display_name": "Spark",
   "language": "scala",
   "name": "sparkkernel"
  },
  "language_info": {
   "codemirror_mode": "text/x-scala",
   "file_extension": ".sc",
   "mimetype": "text/x-scala",
   "name": "scala",
   "pygments_lexer": "scala"
  }
 },
 "nbformat": 4,
 "nbformat_minor": 5
}
